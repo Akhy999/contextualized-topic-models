{
 "cells": [
  {
   "cell_type": "code",
   "execution_count": null,
   "metadata": {
    "pycharm": {
     "is_executing": false
    }
   },
   "outputs": [],
   "source": [
    "from contextualized_topic_models.models.ctm import CTM\n",
    "from contextualized_topic_models.utils.data_preparation import bert_embeddings_from_file, bert_embeddings_from_list\n",
    "import os\n",
    "import numpy as np\n",
    "import pickle\n",
    "from contextualized_topic_models.datasets.dataset import CTMDataset\n",
    "from contextualized_topic_models.utils.data_preparation import TextHandler"
   ]
  },
  {
   "cell_type": "markdown",
   "metadata": {},
   "source": [
    "### Load The Data"
   ]
  },
  {
   "cell_type": "code",
   "execution_count": null,
   "metadata": {
    "pycharm": {
     "is_executing": false
    }
   },
   "outputs": [],
   "source": [
    "handler = TextHandler(\"preprocessed_docs.txt\")\n",
    "handler.prepare() # create vocabulary and training data \n",
    "\n",
    "# generate BERT data\n",
    "train_bert = bert_embeddings_from_file('unpreprocessed_docs.txt', \"distiluse-base-multilingual-cased\")\n",
    "training_dataset = CTMDataset(handler.bow, train_bert, handler.idx2token)"
   ]
  },
  {
   "cell_type": "markdown",
   "metadata": {},
   "source": [
    "### Train the Fully Contextualized Topic Model"
   ]
  },
  {
   "cell_type": "code",
   "execution_count": null,
   "metadata": {
    "pycharm": {
     "name": "#%%\n"
    }
   },
   "outputs": [],
   "source": [
    "num_topics = 50\n",
    "ctm = CTM(input_size=len(handler.vocab), bert_input_size=512, num_epochs=100, hidden_sizes = (100, ),\n",
    "            inference_type=\"contextual\", n_components=num_topics, num_data_loader_workers=0)\n",
    "\n",
    "ctm.fit(training_dataset) # run the model"
   ]
  },
  {
   "cell_type": "code",
   "execution_count": null,
   "metadata": {
    "pycharm": {
     "is_executing": false
    }
   },
   "outputs": [],
   "source": [
    "ctm.get_topic_lists(5) # get the top-5 words lists"
   ]
  },
  {
   "cell_type": "markdown",
   "metadata": {
    "pycharm": {
     "is_executing": false,
     "name": "#%%\n"
    }
   },
   "source": [
    "### Test the model on unseen documents in unseen languages"
   ]
  },
  {
   "cell_type": "code",
   "execution_count": null,
   "metadata": {
    "pycharm": {
     "is_executing": false,
     "name": "#%%\n"
    }
   },
   "outputs": [],
   "source": [
    "testing_bert_italian = bert_embeddings_from_file('unpreprocessed_docs_italian.txt', \"distiluse-base-multilingual-cased\")\n",
    "testing_dataset_italian = CTMDataset(testing_bert_italian, testing_bert_italian, [])"
   ]
  },
  {
   "cell_type": "code",
   "execution_count": null,
   "metadata": {},
   "outputs": [],
   "source": [
    "# we sample n times and average to get a more accurate estimate of the document-topic distribution\n",
    "\n",
    "# document-topic distribution \n",
    "thetas = ctm.get_thetas(testing_dataset_italian, n_samples=100) \n",
    "\n",
    "#list of the predicted topics for each testing document\n",
    "predicted_topics = ctm.get_predicted_topics(testing_dataset_italian, n_samples=100) \n"
   ]
  }
 ],
 "metadata": {
  "kernelspec": {
   "display_name": "Python 3",
   "language": "python",
   "name": "python3"
  },
  "language_info": {
   "codemirror_mode": {
    "name": "ipython",
    "version": 3
   },
   "file_extension": ".py",
   "mimetype": "text/x-python",
   "name": "python",
   "nbconvert_exporter": "python",
   "pygments_lexer": "ipython3",
   "version": "3.7.6"
  },
  "pycharm": {
   "stem_cell": {
    "cell_type": "raw",
    "source": [],
    "metadata": {
     "collapsed": false
    }
   }
  }
 },
 "nbformat": 4,
 "nbformat_minor": 1
}
