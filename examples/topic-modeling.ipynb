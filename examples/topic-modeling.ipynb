{
 "cells": [
  {
   "cell_type": "code",
   "execution_count": 7,
   "metadata": {
    "pycharm": {
     "name": "#%%\n"
    }
   },
   "outputs": [],
   "source": [
    "from contextualized_topic_models.models.cotm import COTM\n",
    "import os\n",
    "import pickle\n",
    "from contextualized_topic_models.utils.data_preparation import TextHandler\n",
    "from contextualized_topic_models.datasets.dataset import COTMDataset"
   ]
  },
  {
   "cell_type": "markdown",
   "metadata": {},
   "source": [
    "### Load The Data"
   ]
  },
  {
   "cell_type": "code",
   "execution_count": 8,
   "metadata": {
    "pycharm": {
     "name": "#%%\n"
    }
   },
   "outputs": [
    {
     "name": "stdout",
     "output_type": "stream",
     "text": [
      "Settings: \n",
      "               N Components: 50\n",
      "               Topic Prior Mean: 0.0\n",
      "               Topic Prior Variance: 0.98\n",
      "               Model Type: prodLDA\n",
      "               Hidden Sizes: (100, 100)\n",
      "               Activation: softplus\n",
      "               Dropout: 0.2\n",
      "               Learn Priors: True\n",
      "               Learning Rate: 0.002\n",
      "               Momentum: 0.99\n",
      "               Reduce On Plateau: False\n",
      "               Save Dir: None\n",
      "Epoch: [1/5]\tSamples: [11108/55540]\tTrain Loss: 88.4506742307768\tTime: 0:00:02.260274\n",
      "Epoch: [2/5]\tSamples: [22216/55540]\tTrain Loss: 78.05209167062871\tTime: 0:00:02.212764\n",
      "Epoch: [3/5]\tSamples: [33324/55540]\tTrain Loss: 73.7296515338748\tTime: 0:00:02.178382\n",
      "Epoch: [4/5]\tSamples: [44432/55540]\tTrain Loss: 71.4169747143458\tTime: 0:00:02.192594\n",
      "Epoch: [5/5]\tSamples: [55540/55540]\tTrain Loss: 70.13589181924064\tTime: 0:00:02.214744\n"
     ]
    }
   ],
   "source": [
    "handler = TextHandler(\"../contextualized_topic_models/data/gnews/GoogleNews.txt\")\n",
    "handler.prepare() # create vocabulary and training data\n",
    "\n",
    "# load BERT data\n",
    "with open(\"../contextualized_topic_models/data/gnews/bert_embeddings_gnews\", \"rb\") as filino:\n",
    "    training_bert = pickle.load(filino)\n",
    "    \n",
    "training_dataset = COTMDataset(handler.bow, training_bert, handler.idx2token)\n",
    "\n",
    "cotm = COTM(input_size=len(handler.vocab), bert_input_size=768, num_epochs=5, inference_type=\"contextual\", n_components=50)\n",
    "\n",
    "cotm.fit(training_dataset) # run the model"
   ]
  },
  {
   "cell_type": "code",
   "execution_count": 9,
   "metadata": {
    "pycharm": {
     "name": "#%%\n"
    }
   },
   "outputs": [
    {
     "data": {
      "text/plain": [
       "[['hiv', 'test', 'love', 'researcher', 'secret'],\n",
       " ['pill', 'morning', 'woman', 'effective', 'hp'],\n",
       " ['jellyfish', 'salmond', 'flying', 'blueprint', 'independence'],\n",
       " ['prince', 'william', 'taylor', 'swift', 'bon'],\n",
       " ['san', 'grand', 'theft', 'andreas', 'auto']]"
      ]
     },
     "execution_count": 9,
     "metadata": {},
     "output_type": "execute_result"
    }
   ],
   "source": [
    "cotm.get_topic_lists(5)[0:5]"
   ]
  },
  {
   "cell_type": "markdown",
   "metadata": {},
   "source": [
    "### Predict the topic distribution for the documents"
   ]
  },
  {
   "cell_type": "code",
   "execution_count": 13,
   "metadata": {},
   "outputs": [
    {
     "data": {
      "text/plain": [
       "[0.01770107075572014,\n",
       " 0.0012614678125828505,\n",
       " 0.04816910997033119,\n",
       " 0.1519114375114441,\n",
       " 0.004698761738836765,\n",
       " 0.001173828961327672,\n",
       " 0.0477045401930809,\n",
       " 0.03476877883076668,\n",
       " 0.0027616769075393677,\n",
       " 0.0012197698233649135,\n",
       " 0.07430833578109741,\n",
       " 0.0031210030429065228,\n",
       " 0.0044945646077394485,\n",
       " 0.003755113808438182,\n",
       " 0.052336834371089935,\n",
       " 0.016557950526475906,\n",
       " 0.007010035216808319,\n",
       " 0.003168315626680851,\n",
       " 0.0023144094739109278,\n",
       " 0.015852492302656174,\n",
       " 0.015327775850892067,\n",
       " 0.004507662262767553,\n",
       " 0.0024233420845121145,\n",
       " 0.0019444096833467484,\n",
       " 0.016046645119786263,\n",
       " 0.0015794036444276571,\n",
       " 0.0007641096599400043,\n",
       " 0.001453230157494545,\n",
       " 0.028085924685001373,\n",
       " 0.023154620081186295,\n",
       " 0.08526438474655151,\n",
       " 0.010250079445540905,\n",
       " 0.0029451046139001846,\n",
       " 0.0023117822129279375,\n",
       " 0.005968856625258923,\n",
       " 0.01524386741220951,\n",
       " 0.0017038424266502261,\n",
       " 0.004526254255324602,\n",
       " 0.008974992670118809,\n",
       " 0.00682725990191102,\n",
       " 0.011294402182102203,\n",
       " 0.002833897713571787,\n",
       " 0.0037057276349514723,\n",
       " 0.005263281054794788,\n",
       " 0.004973525647073984,\n",
       " 0.001532236929051578,\n",
       " 0.10516764223575592,\n",
       " 0.045355696231126785,\n",
       " 0.010264250449836254,\n",
       " 0.07601635903120041]"
      ]
     },
     "execution_count": 13,
     "metadata": {},
     "output_type": "execute_result"
    }
   ],
   "source": [
    "cotm.get_thetas(training_dataset)[0] # topic distribution for the first document"
   ]
  },
  {
   "cell_type": "markdown",
   "metadata": {},
   "source": [
    "## Evaluate the Model"
   ]
  },
  {
   "cell_type": "code",
   "execution_count": 10,
   "metadata": {
    "pycharm": {
     "name": "#%%\n"
    }
   },
   "outputs": [],
   "source": [
    "from contextualized_topic_models.evaluation.measures import TopicDiversity, CoherenceNPMI,\\\n",
    "    CoherenceWordEmbeddings, InvertedRBO"
   ]
  },
  {
   "cell_type": "code",
   "execution_count": 11,
   "metadata": {
    "pycharm": {
     "name": "#%%\n"
    }
   },
   "outputs": [
    {
     "data": {
      "text/plain": [
       "0.5592"
      ]
     },
     "execution_count": 11,
     "metadata": {},
     "output_type": "execute_result"
    }
   ],
   "source": [
    "td = TopicDiversity(cotm.get_topic_lists(25))\n",
    "td.score(topk=25)\n"
   ]
  },
  {
   "cell_type": "code",
   "execution_count": null,
   "metadata": {
    "pycharm": {
     "name": "#%%\n"
    }
   },
   "outputs": [],
   "source": [
    "rbo = InvertedRBO(cotm.get_topic_lists(10))\n",
    "rbo.score()"
   ]
  },
  {
   "cell_type": "markdown",
   "metadata": {},
   "source": [
    "### Coherence measure based on Word Embeddings\n",
    "evaluation of coherence on a word embedding space. if word2vec_file is specified, it retrieves the word embeddings file (in word2vec format) otherwise 'word2vec-google-news-300' is downloaded using gensim's APIs "
   ]
  },
  {
   "cell_type": "code",
   "execution_count": null,
   "metadata": {
    "pycharm": {
     "name": "#%%\n"
    }
   },
   "outputs": [],
   "source": [
    "\n",
    "word2vec_path = \"your\\\\path\\\\to\\\\word2vec.bin\"\n",
    "we_coh = CoherenceWordEmbeddings(word2vec_path=word2vec_path,\n",
    "                                 topics=cotm.get_topic_lists(10),binary=True)\n",
    "we_coh.score(topk=10)"
   ]
  },
  {
   "cell_type": "code",
   "execution_count": null,
   "metadata": {
    "pycharm": {
     "name": "#%%\n"
    }
   },
   "outputs": [],
   "source": [
    "with open(os.path.join('../contextualized_topic_models/data/gnews', 'GoogleNews.txt'),\"r\") as fr:\n",
    "    texts = [doc.split() for doc in fr.read().splitlines()]\n",
    "npmi = CoherenceNPMI(texts=texts, topics=cotm.get_topic_lists(10))\n",
    "npmi.score()\n",
    "\n"
   ]
  }
 ],
 "metadata": {
  "kernelspec": {
   "display_name": "contextualized_topic_models",
   "language": "python",
   "name": "contextualized_topic_models"
  },
  "language_info": {
   "codemirror_mode": {
    "name": "ipython",
    "version": 3
   },
   "file_extension": ".py",
   "mimetype": "text/x-python",
   "name": "python",
   "nbconvert_exporter": "python",
   "pygments_lexer": "ipython3",
   "version": "3.7.5"
  },
  "pycharm": {
   "stem_cell": {
    "cell_type": "raw",
    "source": [],
    "metadata": {
     "collapsed": false
    }
   }
  }
 },
 "nbformat": 4,
 "nbformat_minor": 1
}
