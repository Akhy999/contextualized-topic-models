{
 "cells": [
  {
   "cell_type": "code",
   "execution_count": 1,
   "metadata": {
    "pycharm": {
     "is_executing": false
    }
   },
   "outputs": [],
   "source": [
    "from contextualized_topic_models.models.cotm import COTM\n",
    "from contextualized_topic_models.utils.data_preparation import to_bow\n",
    "import os\n",
    "import json\n",
    "import numpy as np\n",
    "import pickle\n",
    "from contextualized_topic_models.datasets.dataset import LMTopicDataset"
   ]
  },
  {
   "cell_type": "markdown",
   "metadata": {},
   "source": [
    "### Load The Data"
   ]
  },
  {
   "cell_type": "code",
   "execution_count": 2,
   "metadata": {
    "pycharm": {
     "is_executing": false
    }
   },
   "outputs": [],
   "source": [
    "vocab = os.path.join('../contextualized_topic_models/data/gnews', 'vocab.pkl')\n",
    "vocab = json.load(open(vocab, 'r'))\n",
    "idx2token = {v: k for (k, v) in vocab.items()}\n",
    "\n",
    "vocab_size = len(vocab)\n",
    "train = np.load(os.path.join('../contextualized_topic_models/data/gnews', 'train.txt.pkl'), encoding='latin1', allow_pickle=True)\n",
    "train_bow = to_bow(train, vocab_size)\n",
    "\n",
    "with open(\"../contextualized_topic_models/data/gnews/bert_embeddings_gnews\", \"rb\") as filino:\n",
    "    train_bert = pickle.load(filino)\n"
   ]
  },
  {
   "cell_type": "code",
   "execution_count": 3,
   "metadata": {
    "pycharm": {
     "is_executing": false
    }
   },
   "outputs": [],
   "source": [
    "training_data = LMTopicDataset(train_bow, train_bert, idx2token)\n"
   ]
  },
  {
   "cell_type": "code",
   "execution_count": 4,
   "metadata": {
    "pycharm": {
     "is_executing": false
    }
   },
   "outputs": [
    {
     "name": "stdout",
     "text": [
      "Settings: \n",
      "               N Components: 50\n",
      "               Topic Prior Mean: 0.0\n",
      "               Topic Prior Variance: 0.98\n",
      "               Model Type: prodLDA\n",
      "               Hidden Sizes: (100,)\n",
      "               Activation: softplus\n",
      "               Dropout: 0.2\n",
      "               Learn Priors: True\n",
      "               Learning Rate: 0.002\n",
      "               Momentum: 0.99\n",
      "               Reduce On Plateau: False\n",
      "               Save Dir: None\n",
      "Epoch: [1/2]\tSamples: [11108/22216]\tTrain Loss: 91.96690369201814\tTime: 0:00:03.140271\n",
      "Epoch: [2/2]\tSamples: [22216/22216]\tTrain Loss: 80.8879856965419\tTime: 0:00:02.770643\n"
     ],
     "output_type": "stream"
    }
   ],
   "source": [
    "cotm = COTM(input_size=vocab_size, bert_input_size=len(train_bert[0]),  inferencetype=\"contextual\",\n",
    "                n_components=50, model_type=\"prodLDA\",\n",
    "              hidden_sizes=(100, ), activation='softplus', dropout=0.2,\n",
    "              learn_priors=True, batch_size=200, lr=2e-3, momentum=0.99,\n",
    "              solver='adam', num_epochs=2, reduce_on_plateau=False, \n",
    "                  num_data_loader_workers=0)\n",
    "\n",
    "cotm.fit(training_data)\n"
   ]
  },
  {
   "cell_type": "code",
   "execution_count": 5,
   "metadata": {
    "pycharm": {
     "is_executing": false
    }
   },
   "outputs": [
    {
     "data": {
      "text/plain": "[['taylor', 'swift', 'cyber', 'sale', 'william'],\n ['kanye', 'seth', 'franco', 'james', 'kardashian'],\n ['paris', 'reasonable', 'therapeutic', 'ag', 'exile'],\n ['woman', 'xbox', 'kim', 'hewlett', 'problem'],\n ['german', 'greek', 'coalition', 'break', 'leader'],\n ['watkins', 'ian', 'bronco', 'admits', 'lostprophets'],\n ['west', 'kanye', 'kim', 'bound', 'james'],\n ['thanksgiving', 'frozen', 'macy', 'balloon', 'day'],\n ['browner', 'factor', 'ian', 'palestinian', 'pleads'],\n ['thanksgiving', 'lee', 'balloon', 'day', 'parade'],\n ['murder', 'case', 'death', 'guilty', 'ian'],\n ['google', 'view', 'ad', 'mobile', 'voice'],\n ['protester', 'japan', 'browner', 'brandon', 'seahawks'],\n ['child', 'singer', 'sex', 'watkins', 'lostprophets'],\n ['china', 'zone', 'air', 'flight', 'defense'],\n ['friday', 'black', 'nfl', 'bad', 'collapse'],\n ['lumia', 'nokia', 'xbox', 'microsoft', 'game'],\n ['andme', 'china', 'rule', 'call', 'irs'],\n ['mayor', 'starchy', 'trusted', 'backwoods', 'ag'],\n ['study', 'report', 'offense', 'montage', 'exceeds'],\n ['pill', 'morning', 'white', 'will', 'paper'],\n ['scotland', 'montage', 'burn', 'happened', 'eu'],\n ['texas', 'online', 'nurse', 'nsa', 'habit'],\n ['huffpo', 'therapeutic', 'meltdown', 'hrw', 'frontrunner'],\n ['channel', 'bbm', 'glass', 'google', 'nokia'],\n ['google', 'tablet', 'nokia', 'moto', 'lumia'],\n ['xbox', 'star', 'dancing', 'microsoft', 'amber'],\n ['week', 'deal', 'thanksgiving', 'ison', 'monday'],\n ['microsoft', 'nokia', 'device', 'san', 'phone'],\n ['prince', 'jovi', 'swift', 'bon', 'livin'],\n ['kanye', 'frozen', 'video', 'west', 'disney'],\n ['manning', 'peyton', 'independence', 'bronco', 'lead'],\n ['specie', 'therapeutic', 'best', 'maximum', 'sun'],\n ['lumia', 'nokia', 'gta', 'inch', 'android'],\n ['review', 'disney', 'frozen', 'snow', 'developer'],\n ['sans', 'priced', 'bares', 'forensics', 'parker'],\n ['kanye', 'west', 'chelsea', 'kardashian', 'raider'],\n ['black', 'friday', 'cyber', 'monday', 'deal'],\n ['thanksgiving', 'macy', 'day', 'parade', 'holiday'],\n ['vote', 'china', 'berlusconi', 'syria', 'exempt'],\n ['xbox', 'andreas', 'theft', 'lumia', 'microsoft'],\n ['guilty', 'watkins', 'ian', 'talwars', 'singer'],\n ['friday', 'black', 'retailer', 'monday', 'year'],\n ['chrome', 'today', 'google', 'hewlett', 'uk'],\n ['storm', 'east', 'chelsea', 'cameron', 'champion'],\n ['france', 'philippine', 'african', 'tax', 'typhoon'],\n ['lakers', 'scottish', 'stock', 'preview', 'wizard'],\n ['italy', 'xbox', 'blame', 'thai', 'claim'],\n ['cyber', 'christmas', 'game', 'thanksgiving', 'best'],\n ['men', 'wearhouse', 'jos', 'bank', 'watch']]"
     },
     "metadata": {},
     "output_type": "execute_result",
     "execution_count": 5
    }
   ],
   "source": [
    "cotm.get_topic_lists(5)"
   ]
  },
  {
   "cell_type": "markdown",
   "source": [
    "### Evaluate the Model"
   ],
   "metadata": {
    "collapsed": false,
    "pycharm": {
     "name": "#%% md\n",
     "is_executing": false
    }
   }
  },
  {
   "cell_type": "code",
   "execution_count": 6,
   "outputs": [],
   "source": [
    "from contextualized_topic_models.evaluation.measures import TopicDiversity, CoherenceNPMI,\\\n",
    "    CoherenceWordEmbeddings,RBO"
   ],
   "metadata": {
    "collapsed": false,
    "pycharm": {
     "name": "#%%\n",
     "is_executing": false
    }
   }
  },
  {
   "cell_type": "code",
   "execution_count": 7,
   "metadata": {
    "pycharm": {
     "is_executing": false
    }
   },
   "outputs": [
    {
     "data": {
      "text/plain": "0.5928"
     },
     "metadata": {},
     "output_type": "execute_result",
     "execution_count": 7
    }
   ],
   "source": [
    "td = TopicDiversity(cotm.get_topic_lists(25))\n",
    "td.score(topk=25)\n"
   ]
  },
  {
   "cell_type": "code",
   "execution_count": 8,
   "outputs": [
    {
     "data": {
      "text/plain": "0.018348990679341107"
     },
     "metadata": {},
     "output_type": "execute_result",
     "execution_count": 8
    }
   ],
   "source": [
    "rbo = RBO(cotm.get_topic_lists(10))\n",
    "rbo.score()"
   ],
   "metadata": {
    "collapsed": false,
    "pycharm": {
     "name": "#%%\n",
     "is_executing": false
    }
   }
  },
  {
   "cell_type": "code",
   "execution_count": 9,
   "outputs": [],
   "source": [
    "# evaluation of coherence on a word embedding space. if word2vec_file is specified, it retrieves the word embeddings \n",
    "# file (in word2vec format) otherwise 'word2vec-google-news-300' is downloaded using gensim's APIs \n",
    "word2vec_path = \"your\\\\path\\\\to\\\\word2vec.bin\"\n",
    "we_coh = CoherenceWordEmbeddings(word2vec_path=word2vec_path,\n",
    "                                 topics=cotm.get_topic_lists(10),binary=True)\n",
    "we_coh.score(topk=10)"
   ],
   "metadata": {
    "collapsed": false,
    "pycharm": {
     "name": "#%%\n",
     "is_executing": false
    }
   }
  },
  {
   "cell_type": "code",
   "execution_count": 17,
   "outputs": [
    {
     "data": {
      "text/plain": "-0.19744172154597336"
     },
     "metadata": {},
     "output_type": "execute_result",
     "execution_count": 17
    }
   ],
   "source": [
    "with open(os.path.join('../contextualized_topic_models/data/gnews', 'GoogleNews.txt'),\"r\") as fr:\n",
    "    texts = [doc.split() for doc in fr.read().splitlines()]\n",
    "npmi = CoherenceNPMI(texts=texts, topics=cotm.get_topic_lists(10))\n",
    "npmi.score()"
   ],
   "metadata": {
    "collapsed": false,
    "pycharm": {
     "name": "#%%\n",
     "is_executing": false
    }
   }
  },
  {
   "cell_type": "code",
   "execution_count": null,
   "outputs": [],
   "source": [
    "\n"
   ],
   "metadata": {
    "collapsed": false,
    "pycharm": {
     "name": "#%%\n"
    }
   }
  }
 ],
 "metadata": {
  "kernelspec": {
   "name": "python3",
   "language": "python",
   "display_name": "Python 3"
  },
  "language_info": {
   "codemirror_mode": {
    "name": "ipython",
    "version": 3
   },
   "file_extension": ".py",
   "mimetype": "text/x-python",
   "name": "python",
   "nbconvert_exporter": "python",
   "pygments_lexer": "ipython3",
   "version": "3.7.5"
  },
  "pycharm": {
   "stem_cell": {
    "cell_type": "raw",
    "source": [],
    "metadata": {
     "collapsed": false
    }
   }
  }
 },
 "nbformat": 4,
 "nbformat_minor": 1
}
