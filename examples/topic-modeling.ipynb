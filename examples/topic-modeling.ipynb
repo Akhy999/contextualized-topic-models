{
 "cells": [
  {
   "cell_type": "code",
   "execution_count": 6,
   "metadata": {
    "pycharm": {
     "is_executing": false
    }
   },
   "outputs": [],
   "source": [
    "from contextualized_topic_models.models.cotm import COTM\n",
    "from contextualized_topic_models.utils.data_preparation import to_bow\n",
    "from contextualized_topic_models.utils.data_preparation import embed_documents\n",
    "import os\n",
    "import json\n",
    "import numpy as np\n",
    "import pickle\n",
    "from contextualized_topic_models.datasets.dataset import LMTopicDataset"
   ]
  },
  {
   "cell_type": "markdown",
   "metadata": {},
   "source": [
    "### Load The Data"
   ]
  },
  {
   "cell_type": "code",
   "execution_count": 7,
   "metadata": {},
   "outputs": [],
   "source": [
    "from contextualized_topic_models.utils.data_preparation import VocabAndTextFromFile"
   ]
  },
  {
   "cell_type": "code",
   "execution_count": 8,
   "metadata": {},
   "outputs": [],
   "source": [
    "vocab_obj = VocabAndTextFromFile(\"../contextualized_topic_models/data/gnews/GoogleNews.txt\")"
   ]
  },
  {
   "cell_type": "code",
   "execution_count": 9,
   "metadata": {},
   "outputs": [],
   "source": [
    "vocab, training_ids = vocab_obj.create_vocab_and_index()\n",
    "\n",
    "\n",
    "\"\"\"\n",
    "you can also generate your embeddings:\n",
    "from contextualized_topic_models.utils.data_preparation import embed_document\n",
    "\n",
    "train_bert = embed_documents(\"../contextualized_topic_models/data/gnews/GoogleNews.txt\", \"distiluse-base-multilingual-cased\")\n",
    "\n",
    "\n",
    "\"\"\"\n",
    "\n",
    "with open(\"../contextualized_topic_models/data/gnews/bert_embeddings_gnews\", \"rb\") as filino:\n",
    "    train_bert = pickle.load(filino)\n",
    "\n"
   ]
  },
  {
   "cell_type": "code",
   "execution_count": 10,
   "metadata": {
    "pycharm": {
     "is_executing": false
    }
   },
   "outputs": [],
   "source": [
    "train_bow = to_bow(training_ids, len(vocab))\n",
    "idx2token = {v: k for (k, v) in vocab.items()}\n",
    "\n",
    "training_data = LMTopicDataset(train_bow, train_bert, idx2token)\n"
   ]
  },
  {
   "cell_type": "code",
   "execution_count": 12,
   "metadata": {
    "pycharm": {
     "is_executing": false
    }
   },
   "outputs": [
    {
     "name": "stdout",
     "output_type": "stream",
     "text": [
      "Settings: \n",
      "               N Components: 50\n",
      "               Topic Prior Mean: 0.0\n",
      "               Topic Prior Variance: 0.98\n",
      "               Model Type: prodLDA\n",
      "               Hidden Sizes: (100,)\n",
      "               Activation: softplus\n",
      "               Dropout: 0.2\n",
      "               Learn Priors: True\n",
      "               Learning Rate: 0.002\n",
      "               Momentum: 0.99\n",
      "               Reduce On Plateau: False\n",
      "               Save Dir: None\n",
      "Epoch: [1/2]\tSamples: [11108/22216]\tTrain Loss: 92.77190522525994\tTime: 0:00:07.715325\n",
      "Epoch: [2/2]\tSamples: [22216/22216]\tTrain Loss: 80.9538423004535\tTime: 0:00:13.965166\n"
     ]
    }
   ],
   "source": [
    "cotm = COTM(input_size=len(vocab), bert_input_size=len(train_bert[0]),  inferencetype=\"contextual\",\n",
    "                n_components=50, model_type=\"prodLDA\",\n",
    "              hidden_sizes=(100, ), activation='softplus', dropout=0.2,\n",
    "              learn_priors=True, batch_size=200, lr=2e-3, momentum=0.99,\n",
    "              solver='adam', num_epochs=2, reduce_on_plateau=False, \n",
    "                  num_data_loader_workers=0)\n",
    "\n",
    "cotm.fit(training_data)\n"
   ]
  },
  {
   "cell_type": "code",
   "execution_count": 13,
   "metadata": {
    "pycharm": {
     "is_executing": false
    }
   },
   "outputs": [
    {
     "data": {
      "text/plain": [
       "[['xbox', 'nokia', 'lumia', 'patent', 'jellyfish'],\n",
       " ['president', 'fda', 'climate', 'mingles', 'afghan'],\n",
       " ['nsa', 'porn', 'habit', 'spied', 'discredit'],\n",
       " ['watkins', 'ian', 'guilty', 'singer', 'baby'],\n",
       " ['channel', 'table', 'philippine', 'typhoon', 'online']]"
      ]
     },
     "execution_count": 13,
     "metadata": {},
     "output_type": "execute_result"
    }
   ],
   "source": [
    "cotm.get_topic_lists(5)[0:5]"
   ]
  },
  {
   "cell_type": "markdown",
   "metadata": {
    "pycharm": {
     "is_executing": false,
     "name": "#%% md\n"
    }
   },
   "source": [
    "### Evaluate the Model"
   ]
  },
  {
   "cell_type": "code",
   "execution_count": 14,
   "metadata": {
    "pycharm": {
     "is_executing": false,
     "name": "#%%\n"
    }
   },
   "outputs": [],
   "source": [
    "from contextualized_topic_models.evaluation.measures import TopicDiversity, CoherenceNPMI,\\\n",
    "    CoherenceWordEmbeddings,InvertedRBO"
   ]
  },
  {
   "cell_type": "code",
   "execution_count": 15,
   "metadata": {
    "pycharm": {
     "is_executing": false
    }
   },
   "outputs": [
    {
     "data": {
      "text/plain": [
       "0.6"
      ]
     },
     "execution_count": 15,
     "metadata": {},
     "output_type": "execute_result"
    }
   ],
   "source": [
    "td = TopicDiversity(cotm.get_topic_lists(25))\n",
    "td.score(topk=25)\n"
   ]
  },
  {
   "cell_type": "code",
   "execution_count": 16,
   "metadata": {
    "pycharm": {
     "is_executing": false,
     "name": "#%%\n"
    }
   },
   "outputs": [
    {
     "data": {
      "text/plain": [
       "0.019312351303177842"
      ]
     },
     "execution_count": 16,
     "metadata": {},
     "output_type": "execute_result"
    }
   ],
   "source": [
    "rbo = InvertedRBO(cotm.get_topic_lists(10))\n",
    "rbo.score()"
   ]
  },
  {
   "cell_type": "code",
   "execution_count": 9,
   "metadata": {
    "pycharm": {
     "is_executing": false,
     "name": "#%%\n"
    }
   },
   "outputs": [],
   "source": [
    "# evaluation of coherence on a word embedding space. if word2vec_file is specified, it retrieves the word embeddings \n",
    "# file (in word2vec format) otherwise 'word2vec-google-news-300' is downloaded using gensim's APIs \n",
    "word2vec_path = \"your\\\\path\\\\to\\\\word2vec.bin\"\n",
    "we_coh = CoherenceWordEmbeddings(word2vec_path=word2vec_path,\n",
    "                                 topics=cotm.get_topic_lists(10),binary=True)\n",
    "we_coh.score(topk=10)"
   ]
  },
  {
   "cell_type": "code",
   "execution_count": 17,
   "metadata": {
    "pycharm": {
     "is_executing": false,
     "name": "#%%\n"
    }
   },
   "outputs": [
    {
     "data": {
      "text/plain": [
       "-0.19744172154597336"
      ]
     },
     "execution_count": 17,
     "metadata": {},
     "output_type": "execute_result"
    }
   ],
   "source": [
    "with open(os.path.join('../contextualized_topic_models/data/gnews', 'GoogleNews.txt'),\"r\") as fr:\n",
    "    texts = [doc.split() for doc in fr.read().splitlines()]\n",
    "npmi = CoherenceNPMI(texts=texts, topics=cotm.get_topic_lists(10))\n",
    "npmi.score()"
   ]
  },
  {
   "cell_type": "code",
   "execution_count": null,
   "metadata": {
    "pycharm": {
     "name": "#%%\n"
    }
   },
   "outputs": [],
   "source": [
    "\n"
   ]
  },
  {
   "cell_type": "code",
   "execution_count": null,
   "metadata": {},
   "outputs": [],
   "source": []
  },
  {
   "cell_type": "code",
   "execution_count": null,
   "metadata": {},
   "outputs": [],
   "source": []
  },
  {
   "cell_type": "code",
   "execution_count": null,
   "metadata": {},
   "outputs": [],
   "source": []
  },
  {
   "cell_type": "code",
   "execution_count": null,
   "metadata": {},
   "outputs": [],
   "source": []
  },
  {
   "cell_type": "code",
   "execution_count": null,
   "metadata": {},
   "outputs": [],
   "source": [
    "vocab = os.path.join('../contextualized_topic_models/data/gnews', 'vocab.pkl')\n",
    "vocab = json.load(open(vocab, 'r'))\n",
    "idx2token = {v: k for (k, v) in vocab.items()}\n",
    "\n",
    "vocab_size = len(vocab)\n",
    "train = np.load(os.path.join('../contextualized_topic_models/data/gnews', 'train.txt.pkl'), encoding='latin1', allow_pickle=True)\n",
    "train_bow = to_bow(train, vocab_size)\n",
    "\n",
    "with open(\"../contextualized_topic_models/data/gnews/bert_embeddings_gnews\", \"rb\") as filino:\n",
    "    train_bert = pickle.load(filino)"
   ]
  }
 ],
 "metadata": {
  "kernelspec": {
   "display_name": "contextualized_topic_models",
   "language": "python",
   "name": "contextualized_topic_models"
  },
  "language_info": {
   "codemirror_mode": {
    "name": "ipython",
    "version": 3
   },
   "file_extension": ".py",
   "mimetype": "text/x-python",
   "name": "python",
   "nbconvert_exporter": "python",
   "pygments_lexer": "ipython3",
   "version": "3.7.5"
  },
  "pycharm": {
   "stem_cell": {
    "cell_type": "raw",
    "metadata": {
     "collapsed": false
    },
    "source": []
   }
  }
 },
 "nbformat": 4,
 "nbformat_minor": 1
}
