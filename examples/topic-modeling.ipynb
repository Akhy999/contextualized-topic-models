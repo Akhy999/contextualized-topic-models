{
 "cells": [
  {
   "cell_type": "code",
   "execution_count": 1,
   "metadata": {
    "pycharm": {
     "name": "#%%\n",
     "is_executing": false
    }
   },
   "outputs": [],
   "source": [
    "from contextualized_topic_models.models.ctm import CTM\n",
    "import os\n",
    "import pickle\n",
    "from contextualized_topic_models.utils.data_preparation import TextHandler\n",
    "from contextualized_topic_models.datasets.dataset import CTMDataset"
   ]
  },
  {
   "cell_type": "markdown",
   "metadata": {},
   "source": [
    "### Load The Data"
   ]
  },
  {
   "cell_type": "code",
   "execution_count": 2,
   "metadata": {
    "pycharm": {
     "name": "#%%\n",
     "is_executing": false
    }
   },
   "outputs": [
    {
     "name": "stdout",
     "text": [
      "Settings: \n               N Components: 50\n               Topic Prior Mean: 0.0\n               Topic Prior Variance: 0.98\n               Model Type: prodLDA\n               Hidden Sizes: (100, 100)\n               Activation: softplus\n               Dropout: 0.2\n               Learn Priors: True\n               Learning Rate: 0.002\n               Momentum: 0.99\n               Reduce On Plateau: False\n               Save Dir: None\n",
      "Epoch: [1/5]\tSamples: [11108/55540]\tTrain Loss: 83.68554634750855\tTime: 0:00:04.193274\n",
      "Epoch: [2/5]\tSamples: [22216/55540]\tTrain Loss: 74.56768099901957\tTime: 0:00:04.221488\n",
      "Epoch: [3/5]\tSamples: [33324/55540]\tTrain Loss: 71.33945797792131\tTime: 0:00:04.225701\n",
      "Epoch: [4/5]\tSamples: [44432/55540]\tTrain Loss: 69.63589208298636\tTime: 0:00:04.240847\n",
      "Epoch: [5/5]\tSamples: [55540/55540]\tTrain Loss: 68.70253333042626\tTime: 0:00:04.133649\n"
     ],
     "output_type": "stream"
    }
   ],
   "source": [
    "handler = TextHandler(\"../contextualized_topic_models/data/gnews/GoogleNews.txt\")\n",
    "handler.prepare() # create vocabulary and training data\n",
    "\n",
    "# load BERT data\n",
    "with open(\"../contextualized_topic_models/data/gnews/bert_embeddings_gnews\", \"rb\") as filino:\n",
    "    training_bert = pickle.load(filino)\n",
    "    \n",
    "training_dataset = CTMDataset(handler.bow, training_bert, handler.idx2token)\n",
    "\n",
    "ctm = CTM(input_size=len(handler.vocab), bert_input_size=768, num_epochs=5, inference_type=\"combined\", n_components=50)\n",
    "\n",
    "ctm.fit(training_dataset) # run the model"
   ]
  },
  {
   "cell_type": "code",
   "execution_count": 3,
   "metadata": {
    "pycharm": {
     "name": "#%%\n",
     "is_executing": false
    }
   },
   "outputs": [
    {
     "data": {
      "text/plain": "[['xbox', 'lumia', 'nokia', 'tablet', 'microsoft'],\n ['jos', 'bank', 'men', 'money', 'wearhouse'],\n ['swift', 'jovi', 'bon', 'taylor', 'william'],\n ['disney', 'free', 'lumia', 'frozen', 'beat'],\n ['kobe', 'basel', 'lakers', 'bryant', 'league']]"
     },
     "metadata": {},
     "output_type": "execute_result",
     "execution_count": 3
    }
   ],
   "source": [
    "ctm.get_topic_lists(5)[0:5]"
   ]
  },
  {
   "cell_type": "markdown",
   "metadata": {},
   "source": [
    "### Predict the topic distribution for the documents\n",
    "Which is the topic of the document *nokia lumia launch*?"
   ]
  },
  {
   "cell_type": "code",
   "execution_count": 14,
   "outputs": [
    {
     "name": "stdout",
     "text": [
      "centrepoint winter white gala london\r\nmourinho seek killer instinct\r\nroundup golden globe won seduced johansson voice\r\ntravel disruption mount storm cold air sweep south florida\r\nwes welker blame costly turnover\r\npsalm book fetch record ny auction ktvn channel reno\r\nsurface review comparison window powered tablet pitted\r\nscientist unreported fish trap space\r\nnokia lumia launch\r\nedward snowden latest leak nsa monitored online porn habit radicalizers\r\n"
     ],
     "output_type": "stream"
    }
   ],
   "source": [
    "!head -n 10 ../contextualized_topic_models/data/gnews/GoogleNews.txt"
   ],
   "metadata": {
    "collapsed": false,
    "pycharm": {
     "name": "#%%\n",
     "is_executing": false
    }
   }
  },
  {
   "cell_type": "code",
   "execution_count": 32,
   "metadata": {
    "pycharm": {
     "is_executing": false
    }
   },
   "outputs": [
    {
     "name": "stdout",
     "text": [
      "[0.04631870985031128, 0.0030940896831452847, 0.012179974466562271, 0.10562609136104584, 0.00029982352862134576, 0.016247086226940155, 0.0026096573565155268, 0.0024016175884753466, 0.017862707376480103, 0.02637273631989956, 0.06362489610910416, 0.0037376857362687588, 0.027107330039143562, 0.05662212520837784, 0.002137327566742897, 0.0013186399592086673, 0.004643352702260017, 0.008647769689559937, 0.0011787913972511888, 0.006648227572441101, 0.007791334297508001, 0.00045980652794241905, 0.275553822517395, 0.004696805961430073, 0.0015463449526578188, 0.0004970636800862849, 0.0042398953810334206, 0.00293867033906281, 0.023034632205963135, 0.09038814902305603, 0.02389369159936905, 0.0037447575014084578, 0.03660003840923309, 0.00037390936631709337, 0.026152431964874268, 0.016770798712968826, 0.00270906207151711, 0.0025828303769230843, 0.008109727874398232, 0.0009836236713454127, 0.00779800396412611, 0.03024321049451828, 0.0005514333606697619, 0.004347378853708506, 0.004108520690351725, 0.0005029466119594872, 0.0026306367944926023, 0.002054741373285651, 0.0012160235783085227, 0.0048010689206421375]\n"
     ],
     "output_type": "stream"
    },
    {
     "data": {
      "text/plain": "['moto', 'xbox', 'camera', 'surface', 'review']"
     },
     "metadata": {},
     "output_type": "execute_result",
     "execution_count": 32
    }
   ],
   "source": [
    "import numpy as np\n",
    "\n",
    "distribution = ctm.get_thetas(training_dataset)[8] # topic distribution for the first document\n",
    "\n",
    "print(distribution)\n",
    "\n",
    "topic = np.argmax(distribution)\n",
    "\n",
    "ctm.get_topic_lists(5)[topic]\n"
   ]
  },
  {
   "cell_type": "markdown",
   "metadata": {},
   "source": [
    "## Evaluate the Model"
   ]
  },
  {
   "cell_type": "code",
   "execution_count": 33,
   "metadata": {
    "pycharm": {
     "name": "#%%\n",
     "is_executing": false
    }
   },
   "outputs": [],
   "source": [
    "from contextualized_topic_models.evaluation.measures import TopicDiversity, CoherenceNPMI,\\\n",
    "    CoherenceWordEmbeddings, InvertedRBO"
   ]
  },
  {
   "cell_type": "code",
   "execution_count": 34,
   "metadata": {
    "pycharm": {
     "name": "#%%\n",
     "is_executing": false
    }
   },
   "outputs": [
    {
     "data": {
      "text/plain": "0.5176"
     },
     "metadata": {},
     "output_type": "execute_result",
     "execution_count": 34
    }
   ],
   "source": [
    "td = TopicDiversity(ctm.get_topic_lists(25))\n",
    "td.score(topk=25)\n"
   ]
  },
  {
   "cell_type": "code",
   "execution_count": 35,
   "metadata": {
    "pycharm": {
     "name": "#%%\n",
     "is_executing": false
    }
   },
   "outputs": [
    {
     "data": {
      "text/plain": "0.9802813618807522"
     },
     "metadata": {},
     "output_type": "execute_result",
     "execution_count": 35
    }
   ],
   "source": [
    "rbo = InvertedRBO(ctm.get_topic_lists(10))\n",
    "rbo.score()"
   ]
  },
  {
   "cell_type": "markdown",
   "metadata": {},
   "source": [
    "### Coherence measure based on Word Embeddings\n",
    "evaluation of coherence on a word embedding space. if word2vec_file is specified, it retrieves the word embeddings file (in word2vec format) otherwise 'word2vec-google-news-300' is downloaded using gensim's APIs "
   ]
  },
  {
   "cell_type": "code",
   "execution_count": null,
   "metadata": {
    "pycharm": {
     "name": "#%%\n"
    }
   },
   "outputs": [],
   "source": [
    "\n",
    "word2vec_path = \"your\\\\path\\\\to\\\\word2vec.bin\"\n",
    "we_coh = CoherenceWordEmbeddings(word2vec_path=word2vec_path,\n",
    "                                 topics=ctm.get_topic_lists(10),binary=True)\n",
    "we_coh.score(topk=10)"
   ]
  },
  {
   "cell_type": "code",
   "execution_count": 36,
   "metadata": {
    "pycharm": {
     "name": "#%%\n",
     "is_executing": false
    }
   },
   "outputs": [
    {
     "data": {
      "text/plain": "-0.12413081907269717"
     },
     "metadata": {},
     "output_type": "execute_result",
     "execution_count": 36
    }
   ],
   "source": [
    "with open(os.path.join('../contextualized_topic_models/data/gnews', 'GoogleNews.txt'),\"r\") as fr:\n",
    "    texts = [doc.split() for doc in fr.read().splitlines()]\n",
    "npmi = CoherenceNPMI(texts=texts, topics=ctm.get_topic_lists(10))\n",
    "npmi.score()\n",
    "\n"
   ]
  }
 ],
 "metadata": {
  "kernelspec": {
   "display_name": "contextualized_topic_models",
   "language": "python",
   "name": "contextualized_topic_models"
  },
  "language_info": {
   "codemirror_mode": {
    "name": "ipython",
    "version": 3
   },
   "file_extension": ".py",
   "mimetype": "text/x-python",
   "name": "python",
   "nbconvert_exporter": "python",
   "pygments_lexer": "ipython3",
   "version": "3.7.5"
  },
  "pycharm": {
   "stem_cell": {
    "cell_type": "raw",
    "source": [],
    "metadata": {
     "collapsed": false
    }
   }
  }
 },
 "nbformat": 4,
 "nbformat_minor": 1
}
